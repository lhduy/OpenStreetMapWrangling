{
 "cells": [
  {
   "cell_type": "markdown",
   "metadata": {},
   "source": [
    "# OpenStreetMap Data Case Study"
   ]
  },
  {
   "cell_type": "markdown",
   "metadata": {},
   "source": [
    "## Map selection"
   ]
  },
  {
   "cell_type": "markdown",
   "metadata": {},
   "source": [
    "In this project, I choose the map of Amsterdam on Open Street Map website.\n",
    "- Amsterdam, The Netherlands: http://www.openstreetmap.org/export#map=13/52.3577/4.9054"
   ]
  },
  {
   "cell_type": "markdown",
   "metadata": {},
   "source": [
    "This city is one of famous city on the world. I would like to know the best tips for travelling around this city through database queries. How can I contribute to improve this map for traveller ?"
   ]
  },
  {
   "cell_type": "markdown",
   "metadata": {},
   "source": [
    "Because the size of full Amsterdam map is large (~3GB), I only selected the center of amsterdam. Later, I reduced the size of sample by using the script mentioned on the project description in order to test my code. I chose k = 5 as my starting point because its size is smaller than 50mb so it will make my code running faster."
   ]
  },
  {
   "cell_type": "markdown",
   "metadata": {},
   "source": [
    "## Map problem\n",
    "After initially downloading a small sample size of the Amsterdam area and running it against a provisional procdure in \"XMLtoCSVver1.py\" file, I noticed 5 common problems with the data, which I will discuss in the following order:\n",
    "- Inconsistent postal codes (\"1234\",\"1234AB\",\"1234 AB\").\n",
    "- Inconsistent city name (\"Amsteram\", \"Amsterdam \").\n",
    "- Inconsistent telephone number (\"'+31 12 345 6789','+31123456789','012 34 56 789','012-345 67 89','31-12-3456789').\n",
    "- Second level of \"k\" tag with the value \"gate_type\" has different format:\n",
    "```SQL\n",
    "<tag k=\"gate_type\" v=\"turning\" />\n",
    "<tag k=\"gate:type\" v=\"turning\" />\n",
    "```\n",
    "- The street names with spcecial character\n",
    "~~~\n",
    "Jozef Isra\\xeblslaan = Jozef Israëlslaan\n",
    "~~~"
   ]
  },
  {
   "cell_type": "markdown",
   "metadata": {},
   "source": [
    "I have created a \"main_audit.py\" file to clean those data if possible."
   ]
  },
  {
   "cell_type": "markdown",
   "metadata": {},
   "source": [
    "For the audition of data, I have followed the instruction of project guidline and provide three python code:\n",
    "```python\n",
    "import main_audit #contains code for cleaning code.\n",
    "%run downsamplingmap.py #create smaller osm file for code testing.\n",
    "%run XMLtoCSVver1.py # the main file for running audition, cleaning file, export to csv files.\n",
    "%run import_csv_2_sql.py #create database for SQL queries from csv files.\n",
    "```"
   ]
  },
  {
   "cell_type": "markdown",
   "metadata": {},
   "source": [
    "### Inconsistent postal codes\n",
    "In Netherlands, all of postal code is started with 4 digits followed by 2 letters (example: 1234AB). After auditing, most of postal codes have same struture. So, the only job is to update those postal codes in same format by removing \" \" between digits and letters. In my opinion, this problem is caused by typing. For the case of postal code that has only 4 digits, I leave it.\n",
    "```python\n",
    "def update_postalcode(name):\n",
    "    if \" \" in name:\n",
    "        name = name.replace(\" \",\"\")\n",
    "    return name\n",
    "```"
   ]
  },
  {
   "cell_type": "markdown",
   "metadata": {},
   "source": [
    "### Inconsistent city name\n",
    "Because this map focuses on Amsterdam, there is a lot of address which has city name \"Amsterdam\". It increases chance to get wrong city name typing. Through auditing city name, I found 2 specific errors. First is extra space after the name (example: \"Amsterdam \"). Second is missing letter \"d\" in the string (example: \"Amsteram\"). The correction of these errors is in below function:\n",
    "```python\n",
    "def update_city(name):\n",
    "    if name.endswith(\" \"):\n",
    "        name = name[0:(len(name)-1)]\n",
    "    if name == \"Amsteram\":\n",
    "        name = \"Amsterdam\"\n",
    "    return name\n",
    "```"
   ]
  },
  {
   "cell_type": "markdown",
   "metadata": {},
   "source": [
    "### Inconsistent telephone number\n",
    "This is the most popular problem when we observe the database. There are several different ways to input phone number. NOrmally, we can easily recognize those number but it is not nice to display a series of different format on screen. The below code is formatting all phone number into one struture: \"012 3456 789\" without country code (+31).\n",
    "```python\n",
    "def update_telephone(num):\n",
    "    num = num.replace('+','').replace('-',\"\").replace(\" \",\"\")\n",
    "    new_num = '0' + num[(len(num)-9):]\n",
    "    new_num = new_num[:3] + '-' + new_num[3:7] + '-' + new_num[7:]\n",
    "    return new_num\n",
    "```"
   ]
  },
  {
   "cell_type": "markdown",
   "metadata": {},
   "source": [
    "### Tag name\n",
    "When auditing the relation tag, I found inconsistent name of \"gate:type\" so it needs to be corrected.\n",
    "```python\n",
    "def update_gatetype(name):\n",
    "    if name == \"gate_type\":\n",
    "        return \"gate:type\"\n",
    "    return name\n",
    "```"
   ]
  },
  {
   "cell_type": "markdown",
   "metadata": {},
   "source": [
    "### Street name\n",
    "According to Dutch dictionary, there are special characters in dutch words. This feature makes the display of those words incorrect but the system will works easily. Therefore I keep no change at all for street name. This problem is due to language."
   ]
  },
  {
   "cell_type": "markdown",
   "metadata": {},
   "source": [
    "## Map overview"
   ]
  },
  {
   "cell_type": "markdown",
   "metadata": {},
   "source": [
    "This section contains basic statistics about the dataset, the SQL queries used to gather them, and some additional ideas about the data in context."
   ]
  },
  {
   "cell_type": "markdown",
   "metadata": {},
   "source": [
    "### File sizes:\n",
    ">- center_amsterdam.osm ........... 126.8 mb\n",
    ">- mydb.db ........................ 82.2 mb\n",
    ">- nodes.csv ...................... 35.1 mb\n",
    ">- nodes_tags.csv ................. 28 mb\n",
    ">- ways.csv ....................... 2.9 mb\n",
    ">- ways_tags.csv .................. 7.3 mb\n",
    ">- ways_nodes.csv ................. 9.7 mb\n",
    ">- relations.csv .................. 43 kb\n",
    ">- relations_tags.csv ............. 175 kb\n",
    ">- relations_members.csv .......... 2 mb"
   ]
  },
  {
   "cell_type": "markdown",
   "metadata": {},
   "source": [
    "### Number of nodes\n",
    "```SQL\n",
    "sqlite> SELECT COUNT(*) FROM nodes;\n",
    "```\n",
    "411450"
   ]
  },
  {
   "cell_type": "markdown",
   "metadata": {},
   "source": [
    "### Number of ways\n",
    "```SQL\n",
    "sqlite> SELECT COUNT(*) FROM ways;\n",
    "```\n",
    "45046"
   ]
  },
  {
   "cell_type": "markdown",
   "metadata": {},
   "source": [
    "### Number of relations\n",
    "```SQL\n",
    "sqlite> SELECT COUNT(*) FROM relations;\n",
    "```\n",
    "717"
   ]
  },
  {
   "cell_type": "markdown",
   "metadata": {},
   "source": [
    "### Number of unique users\n",
    "```SQL\n",
    "sqlite> SELECT COUNT(DISTINCT(e.uid))          \n",
    "FROM (SELECT uid FROM nodes UNION ALL SELECT uid FROM ways UNION ALL SELECT uid FROM relations) e;\n",
    "```\n",
    "714"
   ]
  },
  {
   "cell_type": "code",
   "execution_count": 1,
   "metadata": {
    "collapsed": true
   },
   "outputs": [],
   "source": [
    "import sqlite3\n",
    "import pandas as pd\n",
    "%matplotlib inline\n",
    "import matplotlib.pyplot as plt\n",
    "import seaborn as sns"
   ]
  },
  {
   "cell_type": "markdown",
   "metadata": {},
   "source": [
    "### Top 5 contributing users"
   ]
  },
  {
   "cell_type": "code",
   "execution_count": 2,
   "metadata": {
    "collapsed": false
   },
   "outputs": [
    {
     "data": {
      "image/png": "[encoded data removed]",
      "text/plain": [
       "<matplotlib.figure.Figure at 0x116431e50>"
      ]
     },
     "metadata": {},
     "output_type": "display_data"
    }
   ],
   "source": [
    "sqlite_file = 'mydb.db'    # name of the sqlite database file\n",
    "conn = sqlite3.connect(sqlite_file)\n",
    "cur = conn.cursor()\n",
    "QUERY = ('''SELECT e.user, COUNT(*) as num\n",
    "FROM (SELECT user FROM nodes UNION ALL SELECT user \n",
    "FROM ways UNION ALL SELECT user FROM relations) e\n",
    "GROUP BY e.user\n",
    "ORDER BY num DESC\n",
    "LIMIT 5''')\n",
    "cur.execute(QUERY)\n",
    "all_rows = cur.fetchall()\n",
    "data = pd.DataFrame(all_rows)\n",
    "sns.barplot(data[0],data[1])\n",
    "plt.title('Top 5 contributors')\n",
    "plt.ylabel('Contribution')\n",
    "plt.xlabel('User name')\n",
    "_, labels = plt.xticks()\n",
    "plt.setp(labels, rotation=90)\n",
    "plt.show()"
   ]
  },
  {
   "cell_type": "markdown",
   "metadata": {},
   "source": [
    "### Contributor statistics\n",
    "The contributions of users is not evenly distributed. In total 3 database of nodes, ways and relations, we have some user percentage statistics:\n",
    "- Top user contribution is 55.72%.\n",
    "- Top 2 users contribution is 83.70%.\n",
    "- Top 5 users contribution is 88.83%."
   ]
  },
  {
   "cell_type": "markdown",
   "metadata": {},
   "source": [
    "In this statistics, we can see that the top users are working very actively in editing map. It raises severy question for me: are they map editor professional ? what are their motivation for contribution than the rest ?"
   ]
  },
  {
   "cell_type": "markdown",
   "metadata": {},
   "source": [
    "## Additional Idea: Tips for travelling"
   ]
  },
  {
   "cell_type": "markdown",
   "metadata": {},
   "source": [
    "### Restaurants\n",
    "```SQL\n",
    "sqlite> SELECT count(*) FROM nodes_tags WHERE value = 'restaurant';\n",
    "```\n",
    "603"
   ]
  },
  {
   "cell_type": "markdown",
   "metadata": {},
   "source": [
    "#### Most popular cuisines"
   ]
  },
  {
   "cell_type": "code",
   "execution_count": 3,
   "metadata": {
    "collapsed": false
   },
   "outputs": [
    {
     "data": {
      "image/png": "[encoded data removed]",
      "text/plain": [
       "<matplotlib.figure.Figure at 0x116467e10>"
      ]
     },
     "metadata": {},
     "output_type": "display_data"
    }
   ],
   "source": [
    "QUERY = ('''SELECT nodes_tags.value, COUNT(*) as num\n",
    "FROM nodes_tags \n",
    "JOIN (SELECT DISTINCT(id) FROM nodes_tags WHERE value='restaurant') i\n",
    "ON nodes_tags.id=i.id\n",
    "WHERE nodes_tags.key='cuisine'\n",
    "GROUP BY nodes_tags.value\n",
    "ORDER BY num DESC\n",
    "LIMIT 10\n",
    "''')\n",
    "cur.execute(QUERY)\n",
    "all_rows = cur.fetchall()\n",
    "data = pd.DataFrame(all_rows)\n",
    "sns.barplot(data[0],data[1])\n",
    "plt.title('Top 10 cuisines in center of Amsterdam')\n",
    "plt.xlabel('Cuisine')\n",
    "plt.ylabel('Number of restaurant')\n",
    "_, labels = plt.xticks()\n",
    "plt.setp(labels, rotation=90)\n",
    "plt.show()"
   ]
  },
  {
   "cell_type": "markdown",
   "metadata": {},
   "source": [
    "It is not suprise when there are a lot of restaurant in a tourist attraction like Amsterdam, 603 restaurant. The most popular cuisine is italian which means that pizza is the top choice of tourists during travelling."
   ]
  },
  {
   "cell_type": "markdown",
   "metadata": {},
   "source": [
    "**Travel tip 1**: If you are looking for eating, there are a lot of restaurants which serve Italian food in Amsterdam."
   ]
  },
  {
   "cell_type": "markdown",
   "metadata": {},
   "source": [
    "### Transportation"
   ]
  },
  {
   "cell_type": "code",
   "execution_count": 4,
   "metadata": {
    "collapsed": false
   },
   "outputs": [
    {
     "data": {
      "image/png": "[encoded data removed]",
      "text/plain": [
       "<matplotlib.figure.Figure at 0x1163c1b50>"
      ]
     },
     "metadata": {},
     "output_type": "display_data"
    }
   ],
   "source": [
    "QUERY = ('''SELECT relations_tags.value, COUNT(*) as num\n",
    "FROM relations_tags\n",
    "WHERE key = 'route'\n",
    "GROUP BY value\n",
    "''')\n",
    "cur.execute(QUERY)\n",
    "all_rows = cur.fetchall()\n",
    "data = pd.DataFrame(all_rows)\n",
    "sns.barplot(data[0],data[1])\n",
    "plt.title('Transportation in Amsterdam')\n",
    "plt.ylabel('Number of route')\n",
    "plt.xlabel('Transportation')\n",
    "_, labels = plt.xticks()\n",
    "plt.setp(labels, rotation=90)\n",
    "plt.show()"
   ]
  },
  {
   "cell_type": "markdown",
   "metadata": {},
   "source": [
    "The center of Amsterdam is small so it is illogical if train is used for travelling around center. The explaination of this matter is that the train central station is located in this area and the number of route counts all train lines from Amsterdam to other cities."
   ]
  },
  {
   "cell_type": "markdown",
   "metadata": {},
   "source": [
    "**Travel tip 2**: You can easily go around center of Amsterdam by bus, tram, bicyle or subway."
   ]
  },
  {
   "cell_type": "markdown",
   "metadata": {},
   "source": [
    "### Attractions\n",
    "```SQL\n",
    "SELECT relations_tags.value\n",
    "FROM relations_tags \n",
    "JOIN (SELECT DISTINCT(id) FROM relations_tags WHERE key='tourism') i\n",
    "ON relations_tags.id=i.id\n",
    "WHERE relations_tags.key='name'\n",
    "```\n",
    "|Place|\n",
    "|---|\n",
    "|West Indisch Huis\n",
    "|Koninklijk Paleis op de Dam\n",
    "|Hotel 83\n",
    "|Hermitage\n",
    "|Het Scheepvaartmuseum\n",
    "|Koninklijk Instituut voor de Tropen\n",
    "|NH Tropen Hotel\n",
    "|Van Gogh Museum"
   ]
  },
  {
   "cell_type": "markdown",
   "metadata": {},
   "source": [
    "**Travel tip 3**: The above list is the top tourist attractions in the center of Amsterdam."
   ]
  },
  {
   "cell_type": "markdown",
   "metadata": {},
   "source": [
    "### Rating implementation\n",
    "My final purpose for this project is to provide a good tips for travellers. Therefore, I would recommend to implement a \"rating\" with \"review\" function into OSM. Naturally, there would be pros and cons for this implementation:\n",
    "- Benefits:\n",
    "    1. OSM users will have a grading system to evaluate interesting points (nodes, ways or relations) on map.\n",
    "    2. By reading those rating and review, travellers can easily choose their activities for this area.\n",
    "- Challenges:\n",
    "    1. The database of OSM file will be larger and it will make longer time to do audition and queries with the addtion of \"rating\" and \"review\".\n",
    "    2. The schema of database would be more complexity. I have to create another 'rating' and 'review' child tag inside the dictionary of nodes, ways and relations. For each those child tag, it would contain score, review, user, user_id, datetime.\n",
    "    3. The duplication of reviews of a unique OSM user is potentially occurred and I need to build a function to keep only the lastest review.\n",
    "    4. An implementation of score averaging for each points is needed."
   ]
  },
  {
   "cell_type": "markdown",
   "metadata": {},
   "source": [
    "## Conclusion\n",
    "- The review of this database provides me a lot of information about center of Amsterdam. There are several errors in database but I believe it has been well cleaned for the requirements of this exercise. There is one limitaion in my cleaning that I don't clean the name of street because of language problem.\n",
    "- By doing queries, it interests me to notice about the contributor's efforts. Top 2 users contributed more than 80% of map. It would like great to contact all contributors and get their feedback about map edition on OSM.\n",
    "- Through those information, my idea is to create a tourist guideline in Amsterdam. It would be great to have another tags called \"rating\" and \"review\" to evaluate the interesting rate of one specific location. \n",
    "- Because of the limit of data submission, I only used a part of Amsterdam city so it is not completely describe the full picture of that city. I would prefer to obtain larger Amsterdam map (up to 3GB) and do those queries again.  "
   ]
  }
 ],
 "metadata": {
  "anaconda-cloud": {},
  "kernelspec": {
   "display_name": "Python [Root]",
   "language": "python",
   "name": "Python [Root]"
  },
  "language_info": {
   "codemirror_mode": {
    "name": "ipython",
    "version": 2
   },
   "file_extension": ".py",
   "mimetype": "text/x-python",
   "name": "python",
   "nbconvert_exporter": "python",
   "pygments_lexer": "ipython2",
   "version": "2.7.12"
  }
 },
 "nbformat": 4,
 "nbformat_minor": 0
}
